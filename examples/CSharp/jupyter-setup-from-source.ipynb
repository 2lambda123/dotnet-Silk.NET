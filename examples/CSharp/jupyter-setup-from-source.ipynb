{
 "cells": [
  {
   "cell_type": "code",
   "execution_count": 1,
   "metadata": {},
   "source": [
    "#!pwsh\n",
    "dotnet build C:/Silk.NET/src/Jupyter/Silk.NET.Jupyter/Silk.NET.Jupyter.csproj -v:q | Out-Null\n",
    "\n",
    "dotnet pack C:/Silk.NET/src/Jupyter/Silk.NET.Jupyter/Silk.NET.Jupyter.csproj /p:PackageVersion=1.1.0 -v:q | Out-Null"
   ],
   "outputs": []
  },
  {
   "cell_type": "code",
   "execution_count": 1,
   "metadata": {},
   "source": [
    "#i nuget:C:\\Silk.NET\\src\\Jupyter\\Silk.NET.Jupyter\\bin\\Debug\\\n",
    "\n",
    "#r \"nuget:Silk.NET.Jupyter,1.1.0\"\n",
    "#r \"nuget:Silk.NET.OpenGLES,2.0.0\"\n",
    "#r \"nuget:SixLabors.ImageSharp,1.0.2\""
   ],
   "outputs": [
    {
     "output_type": "execute_result",
     "data": {
      "text/html": "<div><strong>Restore sources</strong><ul><li><span>https://pkgs.dev.azure.com/dnceng/public/_packaging/dotnet-tools/nuget/v3/index.json</span></li><li><span>C:\\Silk.NET\\src\\Jupyter\\Silk.NET.Jupyter\\bin\\Debug\\</span></li></ul></div>"
     },
     "execution_count": 1,
     "metadata": {}
    },
    {
     "output_type": "execute_result",
     "data": {
      "text/plain": "Installed package SixLabors.ImageSharp version 1.0.2"
     },
     "execution_count": 1,
     "metadata": {}
    },
    {
     "output_type": "execute_result",
     "data": {
      "text/plain": "Installed package Silk.NET.Jupyter version 1.1.0"
     },
     "execution_count": 1,
     "metadata": {}
    },
    {
     "output_type": "execute_result",
     "data": {
      "text/plain": "Installed package Silk.NET.OpenGLES version 2.0.0"
     },
     "execution_count": 1,
     "metadata": {}
    },
    {
     "output_type": "execute_result",
     "data": {
      "text/plain": "Loaded Silk.NET.Jupyter.FrameKernel"
     },
     "execution_count": 1,
     "metadata": {}
    },
    {
     "output_type": "execute_result",
     "data": {
      "text/html": "<div><code>Silk.NET.Jupyter</code> is loaded. Try it out using<br></br><code>var view = JupyterView.Create(100, 100);</code><br></br><code>#!view view</code></div>"
     },
     "execution_count": 1,
     "metadata": {}
    }
   ]
  },
  {
   "cell_type": "code",
   "execution_count": 1,
   "metadata": {},
   "source": [
    "using Silk.NET.Windowing;\n",
    "using Silk.NET.Jupyter;\n",
    "using Silk.NET.OpenGLES;\n",
    "using SixLabors.ImageSharp;\n",
    "using SixLabors.ImageSharp.PixelFormats;\n",
    "\n",
    "\n",
    "var view = JupyterView.Create(100, 100, new GraphicsAPI(ContextAPI.OpenGLES, ContextProfile.Core, ContextFlags.Default, new APIVersion(3, 0)));\n",
    "view.Initialize();\n",
    "view.MakeCurrent();\n",
    "var gl = view.CreateOpenGLES();\n",
    "\n",
    "gl.ClearColor(0.9f, 0.3f, 0.5f, 1.0f);\n",
    "gl.Clear((uint)GLEnum.ColorBufferBit);\n",
    "\n",
    "#!frame\n",
    "\n",
    "gl.Dispose();\n",
    "view.Dispose();"
   ],
   "outputs": [
    {
     "output_type": "execute_result",
     "data": {
      "text/html": "<img src=\"data:image/png;base64,iVBORw0KGgoAAAANSUhEUgAAAGQAAABkCAYAAABw4pVUAAAACXBIWXMAAA7EAAAOxAGVKw4bAAAA80lEQVR4nO3RMQEAIBAAoR+MZyjLmkNr3AAVWHefN2SsIUVIjJAYITFCYoTECIkREiMkRkiMkBghMUJihMQIiRESIyRGSIyQGCExQmKExAiJERIjJEZIjJAYITFCYoTECIkREiMkRkiMkBghMUJihMQIiRESIyRGSIyQGCExQmKExAiJERIjJEZIjJAYITFCYoTECIkREiMkRkiMkBghMUJihMQIiRESIyRGSIyQGCExQmKExAiJERIjJEZIjJAYITFCYoTECIkREiMkRkiMkBghMUJihMQIiRESIyRGSIyQGCExQmKExAiJERIjJEZIjJCYD0fCBEFyxTDZAAAAAElFTkSuQmCC\"></img>"
     },
     "execution_count": 1,
     "metadata": {}
    }
   ]
  }
 ],
 "metadata": {
  "kernelspec": {
   "display_name": ".NET (C#)",
   "language": "C#",
   "name": ".net-csharp"
  },
  "language_info": {
   "file_extension": ".cs",
   "mimetype": "text/x-csharp",
   "name": "C#",
   "pygments_lexer": "csharp",
   "version": "8.0"
  }
 },
 "nbformat": 4,
 "nbformat_minor": 4
}