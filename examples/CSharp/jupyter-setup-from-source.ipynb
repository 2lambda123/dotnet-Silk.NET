{
 "cells": [
  {
   "cell_type": "code",
   "execution_count": 1,
   "metadata": {},
   "source": [
    "#!pwsh\n",
    "dotnet build C:/Silk.NET/src/Jupyter/Silk.NET.Jupyter/Silk.NET.Jupyter.csproj -v:q | Out-Null\n",
    "\n",
    "dotnet pack C:/Silk.NET/src/Jupyter/Silk.NET.Jupyter/Silk.NET.Jupyter.csproj /p:PackageVersion=1.0.12 -v:q | Out-Null"
   ],
   "outputs": []
  },
  {
   "cell_type": "code",
   "execution_count": 1,
   "metadata": {},
   "source": [
    "#i nuget:C:\\Silk.NET\\src\\Jupyter\\Silk.NET.Jupyter\\bin\\Debug\\\n",
    "#r \"nuget:Silk.NET.Jupyter,1.0.12\""
   ],
   "outputs": [
    {
     "output_type": "execute_result",
     "data": {
      "text/html": "<div><strong>Restore sources</strong><ul><li><span>https://pkgs.dev.azure.com/dnceng/public/_packaging/dotnet-tools/nuget/v3/index.json</span></li><li><span>C:\\Silk.NET\\src\\Jupyter\\Silk.NET.Jupyter\\bin\\Debug\\</span></li></ul></div>"
     },
     "execution_count": 1,
     "metadata": {}
    },
    {
     "output_type": "execute_result",
     "data": {
      "text/plain": "Installed package Silk.NET.Jupyter version 1.0.12"
     },
     "execution_count": 1,
     "metadata": {}
    },
    {
     "output_type": "execute_result",
     "data": {
      "text/plain": "Loaded Silk.NET.Jupyter.FrameKernel"
     },
     "execution_count": 1,
     "metadata": {}
    },
    {
     "output_type": "execute_result",
     "data": {
      "text/html": "<div><code>Silk.NET.Jupyter</code> is loaded. Try it out using<br></br><code>var view = JupyterView.Create(100, 100);</code><br></br><code>#!view view</code></div>"
     },
     "execution_count": 1,
     "metadata": {}
    }
   ]
  },
  {
   "cell_type": "code",
   "execution_count": 1,
   "metadata": {},
   "source": [
    "using Silk.NET.Jupyter;\n",
    "\n",
    "var view = JupyterView.Create(100, 100);\n",
    "#!view -v view"
   ],
   "outputs": []
  },
  {
   "cell_type": "code",
   "execution_count": 1,
   "metadata": {},
   "source": [
    "#!whos"
   ],
   "outputs": [
    {
     "output_type": "execute_result",
     "data": {
      "text/html": "<table><thead><tr><th>Variable</th><th>Type</th><th>Value</th></tr></thead><tbody><tr><td>view</td><td>Silk.NET.Jupyter.JupyterView</td><td><div class=\"dni-plaintext\">Silk.NET.Jupyter.JupyterView</div></td></tr></tbody></table>"
     },
     "execution_count": 1,
     "metadata": {}
    }
   ]
  }
 ],
 "metadata": {
  "kernelspec": {
   "display_name": ".NET (C#)",
   "language": "C#",
   "name": ".net-csharp"
  },
  "language_info": {
   "file_extension": ".cs",
   "mimetype": "text/x-csharp",
   "name": "C#",
   "pygments_lexer": "csharp",
   "version": "8.0"
  }
 },
 "nbformat": 4,
 "nbformat_minor": 4
}