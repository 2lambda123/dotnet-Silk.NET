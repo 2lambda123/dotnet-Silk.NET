{
 "cells": [
  {
   "cell_type": "code",
   "execution_count": 1,
   "metadata": {},
   "source": [
    "#!pwsh\n",
    "dotnet build C:/Silk.NET/src/Jupyter/Silk.NET.Jupyter/Silk.NET.Jupyter.csproj -v:q | Out-Null\n",
    "\n",
    "dotnet pack C:/Silk.NET/src/Jupyter/Silk.NET.Jupyter/Silk.NET.Jupyter.csproj /p:PackageVersion=1.0.14 -v:q | Out-Null"
   ],
   "outputs": []
  },
  {
   "cell_type": "code",
   "execution_count": 1,
   "metadata": {},
   "source": [
    "#i nuget:C:\\Silk.NET\\src\\Jupyter\\Silk.NET.Jupyter\\bin\\Debug\\\n",
    "\n",
    "#r \"nuget:Silk.NET.Jupyter,1.0.14\"\n",
    "#r \"nuget:Silk.NET.OpenGL,2.0.0\"\n",
    "using Silk.NET.Jupyter;\n",
    "using Silk.NET.OpenGL;"
   ],
   "outputs": [
    {
     "output_type": "execute_result",
     "data": {
      "text/html": "<div><strong>Restore sources</strong><ul><li><span>https://pkgs.dev.azure.com/dnceng/public/_packaging/dotnet-tools/nuget/v3/index.json</span></li><li><span>C:\\Silk.NET\\src\\Jupyter\\Silk.NET.Jupyter\\bin\\Debug\\</span></li></ul></div>"
     },
     "execution_count": 1,
     "metadata": {}
    },
    {
     "output_type": "execute_result",
     "data": {
      "text/plain": "Installed package Silk.NET.OpenGL version 2.0.0"
     },
     "execution_count": 1,
     "metadata": {}
    },
    {
     "output_type": "execute_result",
     "data": {
      "text/plain": "Installed package Silk.NET.Jupyter version 1.0.14"
     },
     "execution_count": 1,
     "metadata": {}
    },
    {
     "output_type": "execute_result",
     "data": {
      "text/plain": "Loaded Silk.NET.Jupyter.FrameKernel"
     },
     "execution_count": 1,
     "metadata": {}
    },
    {
     "output_type": "execute_result",
     "data": {
      "text/html": "<div><code>Silk.NET.Jupyter</code> is loaded. Try it out using<br></br><code>var view = JupyterView.Create(100, 100);</code><br></br><code>#!view view</code></div>"
     },
     "execution_count": 1,
     "metadata": {}
    }
   ]
  },
  {
   "cell_type": "code",
   "execution_count": 1,
   "metadata": {},
   "source": [
    "var view = JupyterView.Create(100, 100);\n",
    "view.Initialize();\n",
    "view.CreateOpenGL();"
   ],
   "outputs": [
    {
     "output_type": "error",
     "ename": "Error",
     "evalue": "System.NotImplementedException: The method or operation is not implemented.\r\n   at Silk.NET.EGL.EGL.GetApi()\r\n   at Silk.NET.Jupyter.JupyterGLContext..ctor(IGLContextSource source, Int32 width, Int32 height)\r\n   at Silk.NET.Jupyter.JupyterView.Initialize()\r\n   at Submission#7.<<Initialize>>d__0.MoveNext()\r\n--- End of stack trace from previous location ---\r\n   at Microsoft.CodeAnalysis.Scripting.ScriptExecutionState.RunSubmissionsAsync[TResult](ImmutableArray`1 precedingExecutors, Func`2 currentExecutor, StrongBox`1 exceptionHolderOpt, Func`2 catchExceptionOpt, CancellationToken cancellationToken)",
     "traceback": []
    }
   ]
  },
  {
   "cell_type": "code",
   "execution_count": 1,
   "metadata": {},
   "source": [
    ""
   ],
   "outputs": [
    {
     "output_type": "execute_result",
     "data": {
      "text/plain": "Installed package Silk.NET.OpenGL version 2.0.0"
     },
     "execution_count": 1,
     "metadata": {}
    }
   ]
  },
  {
   "cell_type": "code",
   "execution_count": 1,
   "metadata": {},
   "source": [
    "var gl = GL.GetApi((Silk.NET.Core.Contexts.IGLContext)view.GLContext);"
   ],
   "outputs": []
  },
  {
   "cell_type": "code",
   "execution_count": 1,
   "metadata": {},
   "source": [
    "var vao = gl.GenVertexArray();\n",
    "gl.BindVertexArray(vao);"
   ],
   "outputs": [
    {
     "output_type": "error",
     "ename": "Error",
     "evalue": "System.NullReferenceException: Object reference not set to an instance of an object.\r\n   at Silk.NET.OpenGL.GL.GeneratedVTable.Load(Int32 slot, String entryPoint)\r\n   at Silk.NET.OpenGL.GL.GenVertexArrays(UInt32 n, UInt32* arrays)\r\n   at Silk.NET.OpenGL.GL.GenVertexArray()\r\n   at Submission#8.<<Initialize>>d__0.MoveNext()\r\n--- End of stack trace from previous location ---\r\n   at Microsoft.CodeAnalysis.Scripting.ScriptExecutionState.RunSubmissionsAsync[TResult](ImmutableArray`1 precedingExecutors, Func`2 currentExecutor, StrongBox`1 exceptionHolderOpt, Func`2 catchExceptionOpt, CancellationToken cancellationToken)",
     "traceback": []
    }
   ]
  }
 ],
 "metadata": {
  "kernelspec": {
   "display_name": ".NET (C#)",
   "language": "C#",
   "name": ".net-csharp"
  },
  "language_info": {
   "file_extension": ".cs",
   "mimetype": "text/x-csharp",
   "name": "C#",
   "pygments_lexer": "csharp",
   "version": "8.0"
  }
 },
 "nbformat": 4,
 "nbformat_minor": 4
}