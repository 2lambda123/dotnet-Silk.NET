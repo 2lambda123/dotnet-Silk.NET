{
 "cells": [
  {
   "cell_type": "code",
   "execution_count": 1,
   "metadata": {},
   "source": [
    "#!pwsh\n",
    "dotnet build C:/Silk.NET/src/Jupyter/Silk.NET.Jupyter/Silk.NET.Jupyter.csproj -v:q | Out-Null\n",
    "\n",
    "dotnet pack C:/Silk.NET/src/Jupyter/Silk.NET.Jupyter/Silk.NET.Jupyter.csproj /p:PackageVersion=1.1.0 -v:q | Out-Null"
   ],
   "outputs": []
  },
  {
   "cell_type": "code",
   "execution_count": 1,
   "metadata": {},
   "source": [
    "#i nuget:C:\\Silk.NET\\src\\Jupyter\\Silk.NET.Jupyter\\bin\\Debug\\\n",
    "\n",
    "#r \"nuget:Silk.NET.Jupyter,1.1.0\"\n",
    "#r \"nuget:Silk.NET.OpenglES,2.0.0\"\n",
    "#r \"nuget:SixLabors.ImageSharp,1.0.2\""
   ],
   "outputs": [
    {
     "output_type": "execute_result",
     "data": {
      "text/html": "<div><strong>Restore sources</strong><ul><li><span>https://pkgs.dev.azure.com/dnceng/public/_packaging/dotnet-tools/nuget/v3/index.json</span></li><li><span>C:\\Silk.NET\\src\\Jupyter\\Silk.NET.Jupyter\\bin\\Debug\\</span></li></ul></div>"
     },
     "execution_count": 1,
     "metadata": {}
    },
    {
     "output_type": "execute_result",
     "data": {
      "text/plain": "Installed package Silk.NET.Jupyter version 1.1.0"
     },
     "execution_count": 1,
     "metadata": {}
    },
    {
     "output_type": "execute_result",
     "data": {
      "text/plain": "Installed package SixLabors.ImageSharp version 1.0.2"
     },
     "execution_count": 1,
     "metadata": {}
    },
    {
     "output_type": "execute_result",
     "data": {
      "text/plain": "Installed package Silk.NET.OpenglES version 2.0.0"
     },
     "execution_count": 1,
     "metadata": {}
    },
    {
     "output_type": "execute_result",
     "data": {
      "text/plain": "Loaded Silk.NET.Jupyter.FrameKernel"
     },
     "execution_count": 1,
     "metadata": {}
    },
    {
     "output_type": "execute_result",
     "data": {
      "text/html": "<div><code>Silk.NET.Jupyter</code> is loaded. Try it out using<br></br><code>var view = JupyterView.Create(100, 100);</code><br></br><code>#!view view</code></div>"
     },
     "execution_count": 1,
     "metadata": {}
    }
   ]
  },
  {
   "cell_type": "code",
   "execution_count": 1,
   "metadata": {},
   "source": [
    "using Silk.NET.Windowing;\n",
    "using Silk.NET.Jupyter;\n",
    "using Silk.NET.OpenGLES;\n",
    "\n",
    "uint Vbo;\n",
    "uint Ebo;\n",
    "uint Vao;\n",
    "uint Shader;\n",
    "\n",
    "//Vertex shaders are run on each vertex.\n",
    "string VertexShaderSource = @\"#version 300 es //Using version GLSL ES 3.00\n",
    "layout (location = 0) in vec4 vPos;\n",
    "\n",
    "void main()\n",
    "{\n",
    "    gl_Position = vec4(vPos.x, vPos.y, vPos.z, 1.0);\n",
    "}\n",
    "\".Replace(\"\\r\", \"\");\n",
    "\n",
    "//Fragment shaders are run on each fragment/pixel of the geometry.\n",
    "string FragmentShaderSource = @\"#version 300 es\n",
    "precision mediump float; // medium precision\n",
    "out vec4 FragColor;\n",
    "\n",
    "void main()\n",
    "{\n",
    "    FragColor = vec4(1.0f, 0.5f, 0.2f, 1.0f);\n",
    "}\n",
    "\".Replace(\"\\r\", \"\");\n",
    "\n",
    "//Vertex data, uploaded to the VBO.\n",
    "float[] Vertices =\n",
    "{\n",
    "    //X    Y      Z\n",
    "    0.5f,  0.5f, 0.0f,\n",
    "    0.5f, -0.5f, 0.0f,\n",
    "    -0.5f, -0.5f, 0.0f,\n",
    "    -0.5f,  0.5f, 0.5f\n",
    "};\n",
    "\n",
    "//Index data, uploaded to the EBO.\n",
    "uint[] Indices =\n",
    "{\n",
    "    0, 1, 3,\n",
    "    1, 2, 3\n",
    "};\n",
    "\n",
    "Console.WriteLine(\"Aquiring View\");\n",
    "var view = JupyterView.Create(500, 500, new GraphicsAPI(ContextAPI.OpenGLES, ContextProfile.Core, ContextFlags.Default, new APIVersion(3, 0)));\n",
    "view.Initialize();\n",
    "view.MakeCurrent();\n",
    "var gl = view.CreateOpenGLES();\n",
    "\n",
    "unsafe {\n",
    "    \n",
    "Console.WriteLine(\"Creating Buffers\");\n",
    "//Creating a vertex array.\n",
    "Vao = gl.GenVertexArray();\n",
    "gl.BindVertexArray(Vao);\n",
    "\n",
    "//Initializing a vertex buffer that holds the vertex data.\n",
    "Vbo = gl.GenBuffer(); //Creating the buffer.\n",
    "gl.BindBuffer(BufferTargetARB.ArrayBuffer, Vbo); //Binding the buffer.\n",
    "fixed (void* v = &Vertices[0])\n",
    "{\n",
    "    gl.BufferData(BufferTargetARB.ArrayBuffer, (nuint) (Vertices.Length * sizeof(uint)), v, BufferUsageARB.StaticDraw); //Setting buffer data.\n",
    "}\n",
    "\n",
    "//Initializing a element buffer that holds the index data.\n",
    "Ebo = gl.GenBuffer(); //Creating the buffer.\n",
    "gl.BindBuffer(BufferTargetARB.ElementArrayBuffer, Ebo); //Binding the buffer.\n",
    "fixed (void* i = &Indices[0])\n",
    "{\n",
    "    gl.BufferData(BufferTargetARB.ElementArrayBuffer, (nuint) (Indices.Length * sizeof(uint)), i, BufferUsageARB.StaticDraw); //Setting buffer data.\n",
    "}\n",
    "\n",
    "\n",
    "Console.WriteLine(\"Creating Shader Program\");\n",
    "//Creating a vertex shader.\n",
    "uint vertexShader = gl.CreateShader(ShaderType.VertexShader);\n",
    "gl.ShaderSource(vertexShader, VertexShaderSource);\n",
    "gl.CompileShader(vertexShader);\n",
    "\n",
    "//Checking the shader for compilation errors.\n",
    "string infoLog = gl.GetShaderInfoLog(vertexShader);\n",
    "if (!string.IsNullOrWhiteSpace(infoLog))\n",
    "{\n",
    "    Console.WriteLine($\"Error compiling vertex shader {infoLog}\");\n",
    "}\n",
    "\n",
    "//Creating a fragment shader.\n",
    "uint fragmentShader = gl.CreateShader(ShaderType.FragmentShader);\n",
    "gl.ShaderSource(fragmentShader, FragmentShaderSource);\n",
    "gl.CompileShader(fragmentShader);\n",
    "\n",
    "//Checking the shader for compilation errors.\n",
    "infoLog = gl.GetShaderInfoLog(fragmentShader);\n",
    "if (!string.IsNullOrWhiteSpace(infoLog))\n",
    "{\n",
    "    Console.WriteLine($\"Error compiling fragment shader {infoLog}\");\n",
    "}\n",
    "\n",
    "//Combining the shaders under one shader program.\n",
    "Shader = gl.CreateProgram();\n",
    "gl.AttachShader(Shader, vertexShader);\n",
    "gl.AttachShader(Shader, fragmentShader);\n",
    "gl.LinkProgram(Shader);\n",
    "\n",
    "//Checking the linking for errors.\n",
    "gl.GetProgram(Shader, GLEnum.LinkStatus, out var status);\n",
    "if (status == 0)\n",
    "{\n",
    "    Console.WriteLine($\"Error linking shader {gl.GetProgramInfoLog(Shader)}\");\n",
    "}\n",
    "\n",
    "//Delete the no longer useful individual shaders;\n",
    "gl.DetachShader(Shader, vertexShader);\n",
    "gl.DetachShader(Shader, fragmentShader);\n",
    "gl.DeleteShader(vertexShader);\n",
    "gl.DeleteShader(fragmentShader);\n",
    "\n",
    "//Tell opengl how to give the data to the shaders.\n",
    "gl.VertexAttribPointer(0, 3, VertexAttribPointerType.Float, false, 3 * sizeof(float), null);\n",
    "gl.EnableVertexAttribArray(0);\n",
    "\n",
    "// end of setup code\n",
    "// the following is on-frame code. we only draw one frame\n",
    "// so for simplicity, here it is:\n",
    "\n",
    "Console.WriteLine(\"Drawing\");\n",
    "\n",
    "//Set background (clear) color to SOLID black\n",
    "gl.ClearColor(0f, 0f, 0f, 1f);\n",
    "\n",
    "//Clear the color channel.\n",
    "gl.Clear((uint) ClearBufferMask.ColorBufferBit);\n",
    "\n",
    "//Bind the geometry and shader.\n",
    "gl.BindVertexArray(Vao);\n",
    "gl.UseProgram(Shader);\n",
    "\n",
    "//Draw the geometry.\n",
    "gl.DrawElements(PrimitiveType.Triangles, (uint) Indices.Length, DrawElementsType.UnsignedInt, default);\n",
    "}\n",
    "\n",
    "Console.WriteLine(\"Aquiring Frame\");\n",
    "#!frame\n",
    "\n",
    "gl.Dispose();\n",
    "view.Dispose();\n",
    ""
   ],
   "outputs": [
    {
     "output_type": "execute_result",
     "data": {
      "text/plain": "Aquiring View\r\n"
     },
     "execution_count": 1,
     "metadata": {}
    },
    {
     "output_type": "execute_result",
     "data": {
      "text/plain": "Creating Buffers\r\n"
     },
     "execution_count": 1,
     "metadata": {}
    },
    {
     "output_type": "execute_result",
     "data": {
      "text/plain": "Creating Shader Program\r\n"
     },
     "execution_count": 1,
     "metadata": {}
    },
    {
     "output_type": "execute_result",
     "data": {
      "text/plain": "Drawing\r\n"
     },
     "execution_count": 1,
     "metadata": {}
    },
    {
     "output_type": "execute_result",
     "data": {
      "text/plain": "Aquiring Frame\r\n"
     },
     "execution_count": 1,
     "metadata": {}
    },
    {
     "output_type": "execute_result",
     "data": {
      "text/html": "<img src=\"data:image/png;base64,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\"></img>"
     },
     "execution_count": 1,
     "metadata": {}
    }
   ]
  }
 ],
 "metadata": {
  "kernelspec": {
   "display_name": ".NET (C#)",
   "language": "C#",
   "name": ".net-csharp"
  },
  "language_info": {
   "file_extension": ".cs",
   "mimetype": "text/x-csharp",
   "name": "C#",
   "pygments_lexer": "csharp",
   "version": "8.0"
  }
 },
 "nbformat": 4,
 "nbformat_minor": 4
}